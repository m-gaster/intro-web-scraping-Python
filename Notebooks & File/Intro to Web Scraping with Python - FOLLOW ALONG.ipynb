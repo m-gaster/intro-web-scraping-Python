{
 "cells": [
  {
   "cell_type": "code",
   "execution_count": null,
   "metadata": {},
   "outputs": [],
   "source": [
    "from IPython.core.display import display, HTML\n",
    "display(HTML(\"<style>.container { width:95% !important; }</style>\"))"
   ]
  },
  {
   "cell_type": "markdown",
   "metadata": {},
   "source": [
    "# Import"
   ]
  },
  {
   "cell_type": "code",
   "execution_count": null,
   "metadata": {},
   "outputs": [],
   "source": [
    "pip install numpy"
   ]
  },
  {
   "cell_type": "code",
   "execution_count": null,
   "metadata": {},
   "outputs": [],
   "source": [
    "pip install pandas"
   ]
  },
  {
   "cell_type": "code",
   "execution_count": null,
   "metadata": {},
   "outputs": [],
   "source": [
    "pip install bs4"
   ]
  },
  {
   "cell_type": "code",
   "execution_count": null,
   "metadata": {},
   "outputs": [],
   "source": [
    "pip install requests"
   ]
  },
  {
   "cell_type": "code",
   "execution_count": null,
   "metadata": {},
   "outputs": [],
   "source": [
    "pip install nltk"
   ]
  },
  {
   "cell_type": "code",
   "execution_count": null,
   "metadata": {},
   "outputs": [],
   "source": [
    "pip install matplotlib"
   ]
  },
  {
   "cell_type": "markdown",
   "metadata": {},
   "source": [
    "# Ethics Of Web-Scraping"
   ]
  },
  {
   "cell_type": "markdown",
   "metadata": {},
   "source": [
    "* Am I allowed to access this data? \n",
    "    * https://www.chefknivestogo.com/robots.txt\n",
    "* Can the site handle my requests?\n",
    "    * https://www.nrcs.usda.gov/robots.txt\n",
    "* Can I use it in my research? What can I use it for?\n",
    "    * https://meta.wikimedia.org/wiki/Terms_of_use"
   ]
  },
  {
   "cell_type": "markdown",
   "metadata": {},
   "source": [
    "# Jupyter notebooks"
   ]
  },
  {
   "cell_type": "markdown",
   "metadata": {},
   "source": [
    "* This is a Jupyter notebook!\n",
    "* Interactive. Popular in data science\n",
    "* Used with Python, R, Julia.\n",
    "* Mine looks slightly different\n",
    "* Command vs. Edit mode\n",
    "* Blocks are called \"cells\".\n",
    "    * Run cells: ctrl/cmd + enter/return\n",
    "    * New cells above: ctrl/cmd + a \n",
    "    * Code vs. md.\n",
    "* Is it running?"
   ]
  },
  {
   "cell_type": "markdown",
   "metadata": {},
   "source": [
    "# Background: Functions, Data Types, and Pandas"
   ]
  },
  {
   "cell_type": "markdown",
   "metadata": {},
   "source": [
    "## Data Types"
   ]
  },
  {
   "cell_type": "markdown",
   "metadata": {},
   "source": [
    "### int (integer)"
   ]
  },
  {
   "cell_type": "code",
   "execution_count": null,
   "metadata": {},
   "outputs": [],
   "source": []
  },
  {
   "cell_type": "markdown",
   "metadata": {},
   "source": [
    "### float (number with decimal point)"
   ]
  },
  {
   "cell_type": "code",
   "execution_count": null,
   "metadata": {},
   "outputs": [],
   "source": []
  },
  {
   "cell_type": "markdown",
   "metadata": {},
   "source": [
    "### bool (True/False)"
   ]
  },
  {
   "cell_type": "code",
   "execution_count": null,
   "metadata": {},
   "outputs": [],
   "source": [
    "\n",
    "\n",
    "# bools can act as ones (True) and zeros (False)\n",
    "\n",
    "\n"
   ]
  },
  {
   "cell_type": "markdown",
   "metadata": {},
   "source": [
    "### str (characters)"
   ]
  },
  {
   "cell_type": "code",
   "execution_count": null,
   "metadata": {
    "scrolled": true
   },
   "outputs": [],
   "source": [
    "\n",
    "\n",
    "# create a string variable\n",
    "\n",
    "\n",
    "# length of string\n",
    "\n",
    "\n",
    "# split string\n"
   ]
  },
  {
   "cell_type": "markdown",
   "metadata": {},
   "source": [
    "### list\n",
    "\n",
    "* Store multiple items (elements) in a single variable, e.g., three integers (ints). \n",
    "* Elements are separated by commas.\n",
    "\n",
    "**Note that indices start at 0 in Python!**"
   ]
  },
  {
   "cell_type": "code",
   "execution_count": null,
   "metadata": {
    "scrolled": true
   },
   "outputs": [],
   "source": [
    "# initialize a list\n",
    "\n",
    "\n",
    "# print the list\n"
   ]
  },
  {
   "cell_type": "code",
   "execution_count": null,
   "metadata": {},
   "outputs": [],
   "source": [
    "# print the 0th element\n"
   ]
  },
  {
   "cell_type": "code",
   "execution_count": null,
   "metadata": {},
   "outputs": [],
   "source": [
    "# get the length of the list (number of elements in it)\n"
   ]
  },
  {
   "cell_type": "code",
   "execution_count": null,
   "metadata": {},
   "outputs": [],
   "source": [
    "# lists can have mixed datatypes (pretty much anything can be put in a list)\n"
   ]
  },
  {
   "cell_type": "code",
   "execution_count": null,
   "metadata": {},
   "outputs": [],
   "source": [
    "# add two lists together\n",
    "# technically, this is called \"concatenating\" the first and second lists\n",
    "\n"
   ]
  },
  {
   "cell_type": "code",
   "execution_count": null,
   "metadata": {},
   "outputs": [],
   "source": [
    "# list comprehension is an easy way to modify and/or filter lists\n",
    "# GENERAL SYNTAX: \n",
    "    # new_list = [x for x in old_list]\n",
    "\n",
    "# use list comprehension to recreate the same list (just to show how it works)\n",
    "\n",
    "\n",
    "# use list comprehension to add five to each element\n",
    "\n",
    "\n",
    "# use list comprehension to add five to each element, AND filter them\n"
   ]
  },
  {
   "cell_type": "markdown",
   "metadata": {},
   "source": [
    "### Dict (dictionary)\n",
    "\n",
    "* A dictionary is a correspondence of key:value pairings which allow you to look up values from keys!\n",
    "* Keys and values can be most datatypes\n",
    "* Keys must be unique!"
   ]
  },
  {
   "cell_type": "code",
   "execution_count": null,
   "metadata": {},
   "outputs": [],
   "source": [
    "# initialize a dictionary. \n"
   ]
  },
  {
   "cell_type": "code",
   "execution_count": null,
   "metadata": {},
   "outputs": [],
   "source": [
    "# look up first value via key\n"
   ]
  },
  {
   "cell_type": "code",
   "execution_count": null,
   "metadata": {},
   "outputs": [],
   "source": [
    "# can only do dict[key] to get value. CANNOT do dict[value] to get key\n"
   ]
  },
  {
   "cell_type": "markdown",
   "metadata": {},
   "source": [
    "## Functions\n",
    "\n",
    "Functions are reusable blocks of code which let you repeat the same task without rewriting all that code!"
   ]
  },
  {
   "cell_type": "code",
   "execution_count": null,
   "metadata": {},
   "outputs": [],
   "source": [
    "# make a function to add five\n",
    "\n",
    "\n",
    "# try applying the function\n",
    "\n",
    "\n",
    "# apply the function to a list\n"
   ]
  },
  {
   "cell_type": "markdown",
   "metadata": {},
   "source": [
    "## Pandas\n",
    "\n",
    "https://pandas.pydata.org/pandas-docs/stable/index.html"
   ]
  },
  {
   "cell_type": "markdown",
   "metadata": {},
   "source": [
    "### DataFrame\n",
    "\n",
    "* 2-D tabular data variable"
   ]
  },
  {
   "cell_type": "code",
   "execution_count": null,
   "metadata": {},
   "outputs": [],
   "source": [
    "# initialize pandas dataframe from dictionary. note that lists must be the same length!\n",
    "\n",
    "# initialize example dict\n",
    "\n",
    "\n",
    "# initialize pd.DataFrame\n"
   ]
  },
  {
   "cell_type": "code",
   "execution_count": null,
   "metadata": {},
   "outputs": [],
   "source": [
    "# pretty-print test_df\n"
   ]
  },
  {
   "cell_type": "code",
   "execution_count": null,
   "metadata": {},
   "outputs": [],
   "source": [
    "# access a specific column of the dataframe\n"
   ]
  },
  {
   "cell_type": "code",
   "execution_count": null,
   "metadata": {},
   "outputs": [],
   "source": [
    "# access the first row\n"
   ]
  },
  {
   "cell_type": "code",
   "execution_count": null,
   "metadata": {},
   "outputs": [],
   "source": [
    "# add a new column to the existing dataframe\n",
    "\n",
    "\n",
    "# print\n"
   ]
  },
  {
   "cell_type": "code",
   "execution_count": null,
   "metadata": {},
   "outputs": [],
   "source": [
    "# make a new column in the existing dataframe - by applying a function to a column\n",
    "\n",
    "\n",
    "# print\n"
   ]
  },
  {
   "cell_type": "markdown",
   "metadata": {},
   "source": [
    "# Web Scraping"
   ]
  },
  {
   "cell_type": "markdown",
   "metadata": {
    "heading_collapsed": true
   },
   "source": [
    "## Import Necessary packages\n",
    "\n",
    "Earlier, we *installed* the necessary packages with the \"pip install [package]\" commands\n",
    "\n",
    "Now, we *import* the packages so we can use them"
   ]
  },
  {
   "cell_type": "code",
   "execution_count": null,
   "metadata": {
    "hidden": true
   },
   "outputs": [],
   "source": [
    "import numpy as np\n",
    "import pandas as pd\n",
    "from bs4 import BeautifulSoup\n",
    "import requests\n",
    "import nltk"
   ]
  },
  {
   "cell_type": "markdown",
   "metadata": {},
   "source": [
    "## pd.read_html() - USDA FIPS\n",
    "\n",
    "* URL\n",
    "    * https://www.nrcs.usda.gov/wps/portal/nrcs/detail/national/home/?cid=nrcs143_013697\n",
    "* Are we supposed to do something here?\n",
    "    *  "
   ]
  },
  {
   "cell_type": "code",
   "execution_count": null,
   "metadata": {},
   "outputs": [],
   "source": [
    "# here's where we start using the \"pandas\" package\n",
    "\n",
    "# import data from USDA. Output is a LIST of dataframes (tables) that pandas found at the URL\n"
   ]
  },
  {
   "cell_type": "code",
   "execution_count": null,
   "metadata": {
    "scrolled": true
   },
   "outputs": [],
   "source": [
    "# print output to see what we have...\n"
   ]
  },
  {
   "cell_type": "code",
   "execution_count": null,
   "metadata": {
    "scrolled": true
   },
   "outputs": [],
   "source": [
    "# examine the zero-th element in the list (have to start somewhere!)\n"
   ]
  },
  {
   "cell_type": "code",
   "execution_count": null,
   "metadata": {
    "code_folding": []
   },
   "outputs": [],
   "source": [
    "# take the fips table we want\n",
    "\n",
    "\n",
    "# delete the (now-redundant) variable holding the rest of the tables\n"
   ]
  },
  {
   "cell_type": "code",
   "execution_count": null,
   "metadata": {},
   "outputs": [],
   "source": [
    "# the last row is incorrect, so let's delete it\n",
    "\n",
    "# here's what the dataframe looks like without the last column\n"
   ]
  },
  {
   "cell_type": "code",
   "execution_count": null,
   "metadata": {
    "scrolled": true
   },
   "outputs": [],
   "source": [
    "# looks good so let's make this a permanent change!\n"
   ]
  },
  {
   "cell_type": "code",
   "execution_count": null,
   "metadata": {},
   "outputs": [],
   "source": [
    "# Let's confirm there are no other rows we need to drop. Check for nan values in any col pt. 1\n"
   ]
  },
  {
   "cell_type": "code",
   "execution_count": null,
   "metadata": {},
   "outputs": [],
   "source": [
    "# Check for nan values in any col pt. 2\n"
   ]
  },
  {
   "cell_type": "code",
   "execution_count": null,
   "metadata": {},
   "outputs": [],
   "source": [
    "# let's examine the dataframe more closely to make sure everything is correct\n",
    "\n",
    "# change display options to show all rows\n",
    "\n"
   ]
  },
  {
   "cell_type": "code",
   "execution_count": null,
   "metadata": {},
   "outputs": [],
   "source": [
    "# the table looks good so let's save it as a .csv and move on\n"
   ]
  },
  {
   "cell_type": "markdown",
   "metadata": {},
   "source": [
    "## pd.read_html() -  Wikipedia FIPS\n",
    "\n",
    "Same data, different source.\n",
    "\n",
    "This one needs more processing/cleaning\n",
    "\n",
    "* URL\n",
    "    * https://en.wikipedia.org/wiki/List_of_United_States_FIPS_codes_by_county\n",
    "* robots.txt\n",
    "    * https://en.wikipedia.org/robots.txt"
   ]
  },
  {
   "cell_type": "code",
   "execution_count": null,
   "metadata": {},
   "outputs": [],
   "source": [
    "# import data from wikipedia. Again, output is a LIST of dataframes (tables)\n"
   ]
  },
  {
   "cell_type": "code",
   "execution_count": null,
   "metadata": {
    "scrolled": true
   },
   "outputs": [],
   "source": [
    "# let's print the output and take a look...\n"
   ]
  },
  {
   "cell_type": "code",
   "execution_count": null,
   "metadata": {},
   "outputs": [],
   "source": [
    "# zero-th element (table)?\n"
   ]
  },
  {
   "cell_type": "code",
   "execution_count": null,
   "metadata": {},
   "outputs": [],
   "source": [
    "# first element (table)?\n"
   ]
  },
  {
   "cell_type": "code",
   "execution_count": null,
   "metadata": {},
   "outputs": [],
   "source": [
    "# assign correctly parsed table to variable\n",
    "\n",
    "\n",
    "# remove all hyperlinks (these look like \"... County [h]\", etc.)\n",
    "## this is done by using \"regex\", and there is an intro to regex workshop on August 10th - https://libcal.library.ubc.ca/event/3615287\n",
    "\n"
   ]
  },
  {
   "cell_type": "code",
   "execution_count": null,
   "metadata": {},
   "outputs": [],
   "source": [
    "# make a function convert to uppercase\n",
    "\n",
    "\n",
    "# apply the uppercase function\n",
    "\n",
    "\n",
    "# replace \"St.\" with \"Saint\"\n",
    "\n",
    "\n",
    "# remove everything after a comma in a county name (e.g. \"ANCHORAGE, MUNICIPALITY OF\")\n"
   ]
  },
  {
   "cell_type": "code",
   "execution_count": null,
   "metadata": {},
   "outputs": [],
   "source": [
    "# save to .csv\n"
   ]
  },
  {
   "cell_type": "markdown",
   "metadata": {},
   "source": [
    "## Request  + BeautifulSoup\n",
    "\n",
    " Red-bellied Snake (Wikipedia) Text Analysis"
   ]
  },
  {
   "cell_type": "markdown",
   "metadata": {},
   "source": [
    "### Squirrel Article (Wikipedia) Text Analysis\n",
    "\n",
    "Hypothetical: we want to get a list of all words (and their respective frequencies) from this wikipedia page"
   ]
  },
  {
   "cell_type": "code",
   "execution_count": null,
   "metadata": {},
   "outputs": [],
   "source": [
    "# use requests to get URL\n",
    "\n",
    "\n",
    "# it prints \"200\" if the page was successfully downloaded!\n",
    "\n",
    "\n",
    "# another way to check it worked - we can just ask :)\n"
   ]
  },
  {
   "cell_type": "code",
   "execution_count": null,
   "metadata": {},
   "outputs": [],
   "source": [
    "#let's examine the output... which turns out to be a mess (this is where BeautifulSoup becomes necessary)\n"
   ]
  },
  {
   "cell_type": "code",
   "execution_count": null,
   "metadata": {},
   "outputs": [],
   "source": [
    "# use BeautifulSoup's html parser to convert the html document into a BeautifulSoup object\n",
    "\n",
    "# why use 'html.parser'? \n",
    "    # https://stackoverflow.com/a/60254943/11595913\n",
    "\n",
    "# BeautifulSoup sometimes gives us a more readable format, but not this time - the BeautifulSoup object () is no more readable than the \n"
   ]
  },
  {
   "cell_type": "code",
   "execution_count": null,
   "metadata": {},
   "outputs": [],
   "source": [
    "# we need to isolate the article's text and get rid of the rest! we'll do that by getting all html elements with a \"p\" (paragraph) tag\n"
   ]
  },
  {
   "cell_type": "code",
   "execution_count": null,
   "metadata": {},
   "outputs": [],
   "source": [
    "# let's get the text out of each of these paragraph elements\n",
    "\n"
   ]
  },
  {
   "cell_type": "code",
   "execution_count": null,
   "metadata": {
    "scrolled": true
   },
   "outputs": [],
   "source": [
    "# we need to take all of these paragraphs and merge them into one large string (remember our overall goal)\n",
    "\n",
    "\n",
    "# print\n"
   ]
  },
  {
   "cell_type": "code",
   "execution_count": null,
   "metadata": {},
   "outputs": [],
   "source": [
    "# now let's count occurences of each word\n",
    "# this is where we use the \"nltk\" package.\n",
    "# import nltk\n",
    "\n"
   ]
  },
  {
   "cell_type": "code",
   "execution_count": null,
   "metadata": {},
   "outputs": [],
   "source": [
    "# split the FreqDist input by word\n",
    "\n",
    "\n",
    "# print \n"
   ]
  },
  {
   "cell_type": "code",
   "execution_count": null,
   "metadata": {},
   "outputs": [],
   "source": [
    "# let's try FreqDist again\n",
    "\n",
    "\n",
    "# print\n"
   ]
  },
  {
   "cell_type": "code",
   "execution_count": null,
   "metadata": {},
   "outputs": [],
   "source": [
    "# dict --> pd.DataFrame\n",
    "\n",
    "\n",
    "# print\n"
   ]
  },
  {
   "cell_type": "code",
   "execution_count": null,
   "metadata": {},
   "outputs": [],
   "source": [
    "# sort\n",
    "\n",
    "\n",
    "# print\n"
   ]
  },
  {
   "cell_type": "code",
   "execution_count": null,
   "metadata": {},
   "outputs": [],
   "source": [
    "# let's convert frequency into a percentage\n",
    "\n",
    "## first, total up the number of words\n",
    "\n",
    "\n",
    "## make a % frequency column in wiki_squirrel_df\n",
    "\n",
    "\n",
    "## print\n"
   ]
  },
  {
   "cell_type": "code",
   "execution_count": null,
   "metadata": {},
   "outputs": [],
   "source": [
    "# plot word frequency\n"
   ]
  },
  {
   "cell_type": "code",
   "execution_count": null,
   "metadata": {},
   "outputs": [],
   "source": [
    "# make a better plot of word frequency\n",
    "\n",
    "\n",
    "# https://en.wikipedia.org/wiki/Zipf%27s_law  ??"
   ]
  },
  {
   "cell_type": "code",
   "execution_count": null,
   "metadata": {},
   "outputs": [],
   "source": [
    "# pie chart (notice caps)\n",
    "\n",
    "# wiki_squirrel_df.set_index('Word').plot.pie(y='% Freq', figsize=(9,6), legend=False)"
   ]
  },
  {
   "cell_type": "code",
   "execution_count": null,
   "metadata": {},
   "outputs": [],
   "source": [
    "# save to .csv\n",
    "\n",
    "\n",
    "# save to .json\n"
   ]
  },
  {
   "cell_type": "markdown",
   "metadata": {},
   "source": [
    "## Request  + BeautifulSoup - lichess.org user stats\n",
    "\n",
    "Let's get the information of every top \"bullet\" chess player\n",
    "\n",
    "Our approach:\n",
    "* Get the list of top bullet players\n",
    "    * Listed at https://lichess.org/player/top/200/bullet\n",
    "* Go to each player's account\n",
    "    * Account page URLs have the following structure: \"https://lichess.org/@/\" + username\n",
    "    * E.g., https://lichess.org/@/RebeccaHarris\n",
    "* Scrape the information from each player's account and compile it into a pandas DataFrame\n",
    "    * Do this by writing several functions to get specific pieces of information\n",
    "* Save the dataframe as a .csv file\n",
    "\n",
    "\n",
    "**NOTE: THIS EXERCISE USES SELECTOR GADGET TO FIND HTML ELEMENTS: https://selectorgadget.com/**"
   ]
  },
  {
   "cell_type": "markdown",
   "metadata": {},
   "source": [
    "### Compile list of usernames"
   ]
  },
  {
   "cell_type": "code",
   "execution_count": null,
   "metadata": {},
   "outputs": [],
   "source": [
    "# here are the top bullet players: https://lichess.org/player/top/200/bullet\n",
    "\n",
    "# scrape this table!\n",
    "\n",
    "\n",
    "# let's see the output:\n"
   ]
  },
  {
   "cell_type": "code",
   "execution_count": null,
   "metadata": {},
   "outputs": [],
   "source": [
    "# looks like we only need/want the first dataframe in this list (turns out there's only one anyway)\n",
    "\n",
    "\n",
    "# delete the list of dataframes\n",
    "\n",
    "\n",
    "# print\n",
    "\n"
   ]
  },
  {
   "cell_type": "code",
   "execution_count": null,
   "metadata": {},
   "outputs": [],
   "source": [
    "# the column called 0 is the user's ranking, and the column called 3 is their recent rating change. we aren't interested in either, so let's delete them\n",
    "\n",
    "# print\n"
   ]
  },
  {
   "cell_type": "code",
   "execution_count": null,
   "metadata": {},
   "outputs": [],
   "source": [
    "# now let's rename the columns to more helpful labels pt.1 \n",
    "\n",
    "# print the renamed dataframe to make sure it looks good\n"
   ]
  },
  {
   "cell_type": "code",
   "execution_count": null,
   "metadata": {},
   "outputs": [],
   "source": [
    "# now let's rename the columns to more helpful labels pt.2\n",
    "\n",
    "# now replace the dataframe with the renamed dataframe\n"
   ]
  },
  {
   "cell_type": "code",
   "execution_count": null,
   "metadata": {},
   "outputs": [],
   "source": [
    "# make a short function to give us individual players' urls from username, for convenience\n",
    "\n"
   ]
  },
  {
   "cell_type": "code",
   "execution_count": null,
   "metadata": {},
   "outputs": [],
   "source": [
    "# url of first user's account\n",
    "\n",
    "# equivalent to: \"https://lichess.org/@/\" + players_df['User'].iloc[0]"
   ]
  },
  {
   "cell_type": "code",
   "execution_count": null,
   "metadata": {},
   "outputs": [],
   "source": [
    "# we need to somehow replace these \"/xa0\" parts of the string.\n",
    "## these are not dumplings! they're actually non-character breaking spaces (not important to know what that means)\n",
    "\n",
    "\n",
    "# apply this function to our dataframe\n",
    "## first, let's check to see that it returns the right output\n"
   ]
  },
  {
   "cell_type": "code",
   "execution_count": null,
   "metadata": {},
   "outputs": [],
   "source": [
    "## looks good (or at least not harmful), so let's replace the username\n"
   ]
  },
  {
   "cell_type": "code",
   "execution_count": null,
   "metadata": {},
   "outputs": [],
   "source": [
    "# retry printing url of first user's account\n",
    "\n",
    "\n",
    "# this still doesn't work! there's a \"GM\" title in the URL, as well as a space"
   ]
  },
  {
   "cell_type": "code",
   "execution_count": null,
   "metadata": {},
   "outputs": [],
   "source": [
    "# we need to split the \"User\" column, otherwise we get urls like \"https://lichess.org/@/GM RebeccaHarris\" instead of \"https://lichess.org/@/RebeccaHarris\"\n",
    "\n",
    "# make a function to get user\n",
    "\n",
    "\n",
    "# make a function to get title\n",
    "\n",
    "    \n",
    "# apply these functions to the \"User\" column to create a new column for Usernames and a new column for titles\n"
   ]
  },
  {
   "cell_type": "code",
   "execution_count": null,
   "metadata": {
    "scrolled": true
   },
   "outputs": [],
   "source": [
    "# print the dataframe to make sure everything worked\n"
   ]
  },
  {
   "cell_type": "code",
   "execution_count": null,
   "metadata": {},
   "outputs": [],
   "source": [
    "# add a \"URL\" column by applying the \"indiv_URL_formula\" function we defined earlier\n"
   ]
  },
  {
   "cell_type": "code",
   "execution_count": null,
   "metadata": {},
   "outputs": [],
   "source": [
    "# print df\n"
   ]
  },
  {
   "cell_type": "code",
   "execution_count": null,
   "metadata": {},
   "outputs": [],
   "source": [
    "# print URLs\n"
   ]
  },
  {
   "cell_type": "code",
   "execution_count": null,
   "metadata": {},
   "outputs": [],
   "source": [
    "# save to .csv"
   ]
  },
  {
   "cell_type": "code",
   "execution_count": null,
   "metadata": {},
   "outputs": [],
   "source": [
    "# read from .csv"
   ]
  },
  {
   "cell_type": "markdown",
   "metadata": {},
   "source": [
    "### Write functions to get statistics/info from individual pages"
   ]
  },
  {
   "cell_type": "code",
   "execution_count": null,
   "metadata": {},
   "outputs": [],
   "source": [
    "# make a short function to give us individual players' urls from username, for convenience\n"
   ]
  },
  {
   "cell_type": "code",
   "execution_count": null,
   "metadata": {},
   "outputs": [],
   "source": [
    "# let's scrape the first user's page so we have an example to work with\n",
    "# after figuring out how to scrape the first user's site, we'll use the same methods to scrape the rest\n",
    "\n",
    "\n",
    "first_player_url = \"https://lichess.org/@/Zhigalko_Sergei\"\n",
    "print(first_player_url)\n",
    "\n",
    "# use requests to get html\n",
    "\n",
    "\n",
    "# create beautifulsoup object for \n",
    "\n"
   ]
  },
  {
   "cell_type": "markdown",
   "metadata": {},
   "source": [
    "#### Get user's name (if they provide one)"
   ]
  },
  {
   "cell_type": "code",
   "execution_count": null,
   "metadata": {},
   "outputs": [],
   "source": [
    "# use selector gadget to identify the elements we need\n",
    "\n",
    "# select html elements - note that this always returns a LIST, even when there's only one element in the list\n"
   ]
  },
  {
   "cell_type": "code",
   "execution_count": null,
   "metadata": {},
   "outputs": [],
   "source": [
    "# get text from selected html elements\n"
   ]
  },
  {
   "cell_type": "code",
   "execution_count": null,
   "metadata": {},
   "outputs": [],
   "source": [
    "# get the lone string out of this list (it's the only element)\n"
   ]
  },
  {
   "cell_type": "code",
   "execution_count": null,
   "metadata": {},
   "outputs": [],
   "source": [
    "# take what we just did and turn it into a function\n",
    "    \n",
    "\n",
    "# apply this function to make sure it works as intended\n"
   ]
  },
  {
   "cell_type": "markdown",
   "metadata": {},
   "source": [
    "#### Get number of followers"
   ]
  },
  {
   "cell_type": "code",
   "execution_count": null,
   "metadata": {},
   "outputs": [],
   "source": [
    "# use selector gadget to identify the elements we need\n",
    "\n",
    "# select html elements\n"
   ]
  },
  {
   "cell_type": "code",
   "execution_count": null,
   "metadata": {},
   "outputs": [],
   "source": [
    "# print text from selected elements to make sure it's correct\n"
   ]
  },
  {
   "cell_type": "code",
   "execution_count": null,
   "metadata": {},
   "outputs": [],
   "source": [
    "# take follower string out of list\n",
    "\n",
    "# print\n"
   ]
  },
  {
   "cell_type": "code",
   "execution_count": null,
   "metadata": {},
   "outputs": [],
   "source": [
    "# split followers string at the letter \"f\" to isolate the numbers\n",
    "\n",
    "\n",
    "# print\n"
   ]
  },
  {
   "cell_type": "code",
   "execution_count": null,
   "metadata": {},
   "outputs": [],
   "source": [
    "# remove comma from number\n",
    "\n",
    "\n",
    "# print\n"
   ]
  },
  {
   "cell_type": "code",
   "execution_count": null,
   "metadata": {},
   "outputs": [],
   "source": [
    "# convert the string to an integer\n",
    "\n",
    "\n",
    "# print\n"
   ]
  },
  {
   "cell_type": "code",
   "execution_count": null,
   "metadata": {},
   "outputs": [],
   "source": [
    "# take what we just did (to get number of followers) and turn it into a function\n",
    "\n",
    "# check that it works!\n"
   ]
  },
  {
   "cell_type": "markdown",
   "metadata": {},
   "source": [
    "#### Get number of games played"
   ]
  },
  {
   "cell_type": "code",
   "execution_count": null,
   "metadata": {},
   "outputs": [],
   "source": [
    "# select number of games element\n",
    "\n",
    "\n",
    "# print\n"
   ]
  },
  {
   "cell_type": "code",
   "execution_count": null,
   "metadata": {},
   "outputs": [],
   "source": [
    "# get text from the html elements we selected\n",
    "\n",
    "\n",
    "# print\n"
   ]
  },
  {
   "cell_type": "code",
   "execution_count": null,
   "metadata": {},
   "outputs": [],
   "source": [
    "# take lone element out of list\n",
    "\n",
    "\n",
    "# print\n"
   ]
  },
  {
   "cell_type": "code",
   "execution_count": null,
   "metadata": {},
   "outputs": [],
   "source": [
    "# take the number out of the string\n",
    "\n",
    "# first, split the string\n",
    "\n",
    "\n",
    "# print\n",
    "\n",
    "\n",
    "# then, take the first element\n",
    "\n",
    "\n",
    "# print\n"
   ]
  },
  {
   "cell_type": "code",
   "execution_count": null,
   "metadata": {},
   "outputs": [],
   "source": [
    "# remove comma from number string\n",
    "\n",
    "\n",
    "# print\n"
   ]
  },
  {
   "cell_type": "code",
   "execution_count": null,
   "metadata": {},
   "outputs": [],
   "source": [
    "# convert string to int\n",
    "\n",
    "\n",
    "# print\n"
   ]
  },
  {
   "cell_type": "code",
   "execution_count": null,
   "metadata": {},
   "outputs": [],
   "source": [
    "# take what we just did (to get number of games played) and turn it into a function\n",
    "\n",
    "\n",
    "# make sure it works\n"
   ]
  },
  {
   "cell_type": "markdown",
   "metadata": {},
   "source": [
    "### Combine the scraping functions we made, use them in one big function"
   ]
  },
  {
   "cell_type": "code",
   "execution_count": null,
   "metadata": {},
   "outputs": [],
   "source": [
    "# FINAL SCRAPING FUNCTION\n",
    "\n",
    "# we need to add a delay between our requests. the \"time\" package allows us to easily do this\n",
    "import time\n",
    "\n",
    "def scrape_all_user_stats(df):\n",
    "    '''\n",
    "    input = dataframe containing a column called \"URL\", which holds user acct. URLs\n",
    "    output = input dataframe + scraped columns\n",
    "    '''\n",
    "    # we will hold the scraped information in a dictionary until we're ready to merge it back with the original players_df\n",
    "\n",
    "    \n",
    "    # loop over every player's URL in the input dataframe\n",
    "    \n",
    "\n",
    "        # delay 2 seconds betweeneach loop\n",
    "        \n",
    "        \n",
    "        # print the URL just so we can see the player\n",
    "        \n",
    "        \n",
    "        # use \"requests\" to access webpage\n",
    "        \n",
    "\n",
    "        # convert to \"BeautifulSoup\" object\n",
    "        \n",
    "\n",
    "        # get name\n",
    "        \n",
    "\n",
    "        # get number of games\n",
    "        \n",
    "\n",
    "        # get number of followers\n",
    "        \n",
    "    \n",
    "    # we now have a dictionary (scraped_info_dict) which holds the scraped information.\n",
    "        # (specifically, it holds three lists - \"Name\", \"Num. Games\", and \"Num Followers\" - which hold the scraped info)\n",
    "    # we convert this dictionary into a pandas dataframe so it can be easily merged with the original players_df dataframe\n",
    "    \n",
    "    # dict --> dataframe\n",
    "    \n",
    "    \n",
    "    # merge the two dataframes (original and new information)\n",
    "    \n",
    "        \n",
    "    # return output\n",
    "    "
   ]
  },
  {
   "cell_type": "code",
   "execution_count": null,
   "metadata": {},
   "outputs": [],
   "source": [
    "# test output\n",
    "\n",
    "## get first 5 rows for sample\n",
    "\n",
    "\n",
    "## scrape first 5 users\n",
    "\n",
    "\n",
    "# print our final dataframe and see what it looks like\n"
   ]
  },
  {
   "cell_type": "code",
   "execution_count": null,
   "metadata": {},
   "outputs": [],
   "source": [
    "# here's where we would scrape each user's info. I don't want everyone to do that, since it would be a lot of needless traffic at the same time.\n",
    "\n",
    "\n",
    "# print output (make sure it looks good!)\n",
    "\n",
    "\n",
    "# save output to .csv\n"
   ]
  },
  {
   "cell_type": "code",
   "execution_count": null,
   "metadata": {},
   "outputs": [],
   "source": [
    "# read .csv that you downloaded with the workshop (instead of actually scraping)\n"
   ]
  },
  {
   "cell_type": "markdown",
   "metadata": {},
   "source": [
    "### Make some plots"
   ]
  },
  {
   "cell_type": "code",
   "execution_count": null,
   "metadata": {},
   "outputs": [],
   "source": [
    "# histogram of ratings\n"
   ]
  },
  {
   "cell_type": "code",
   "execution_count": null,
   "metadata": {},
   "outputs": [],
   "source": [
    "# plot num followers against rating (scatter plot)\n"
   ]
  },
  {
   "cell_type": "code",
   "execution_count": null,
   "metadata": {
    "scrolled": false
   },
   "outputs": [],
   "source": [
    "# plot num followers against rating (scatter plot) - BY TITLE\n",
    "# need this to display plots in a loop    \n",
    "import matplotlib.pyplot as plt\n",
    "\n",
    "\n",
    "# print all unique titles\n",
    "\n",
    "\n",
    "\n",
    "# loop over each type of title\n",
    "\n",
    "\n",
    "    # if the title isn't NaN\n",
    "\n",
    "    \n",
    "        # plot users with this title\n",
    "\n",
    "        \n",
    "        # show the plot\n",
    "\n",
    "        \n",
    "    # else, if the title IS NaN\n",
    "\n",
    "    \n",
    "        # plot users with no title (add a manually entered plot title)\n",
    "\n",
    "        \n",
    "        # show the plot\n"
   ]
  }
 ],
 "metadata": {
  "kernelspec": {
   "display_name": "Python 3",
   "language": "python",
   "name": "python3"
  },
  "language_info": {
   "codemirror_mode": {
    "name": "ipython",
    "version": 3
   },
   "file_extension": ".py",
   "mimetype": "text/x-python",
   "name": "python",
   "nbconvert_exporter": "python",
   "pygments_lexer": "ipython3",
   "version": "3.8.5"
  },
  "latex_envs": {
   "LaTeX_envs_menu_present": true,
   "autoclose": true,
   "autocomplete": true,
   "bibliofile": "biblio.bib",
   "cite_by": "apalike",
   "current_citInitial": 1,
   "eqLabelWithNumbers": true,
   "eqNumInitial": 1,
   "hotkeys": {
    "equation": "Ctrl-E",
    "itemize": "Ctrl-I"
   },
   "labels_anchors": false,
   "latex_user_defs": false,
   "report_style_numbering": false,
   "user_envs_cfg": false
  },
  "toc": {
   "base_numbering": 1,
   "nav_menu": {},
   "number_sections": true,
   "sideBar": true,
   "skip_h1_title": false,
   "title_cell": "Table of Contents",
   "title_sidebar": "Contents",
   "toc_cell": false,
   "toc_position": {},
   "toc_section_display": true,
   "toc_window_display": false
  }
 },
 "nbformat": 4,
 "nbformat_minor": 4
}
